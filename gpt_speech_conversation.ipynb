{
 "cells": [
  {
   "cell_type": "code",
   "execution_count": 36,
   "id": "31afad17",
   "metadata": {},
   "outputs": [],
   "source": [
    "import openai\n",
    "import pyttsx3"
   ]
  },
  {
   "cell_type": "code",
   "execution_count": 49,
   "id": "dc149e91",
   "metadata": {},
   "outputs": [],
   "source": [
    "openai.api_key = \"\""
   ]
  },
  {
   "cell_type": "markdown",
   "id": "c1e8b9c9",
   "metadata": {},
   "source": [
    "Method to convert speech to text using OpenAI"
   ]
  },
  {
   "cell_type": "code",
   "execution_count": 38,
   "id": "12280d1a",
   "metadata": {},
   "outputs": [],
   "source": [
    "def speech_to_text(input_audio_file):\n",
    "    input_audio_file= open(input_audio_file, \"rb\")\n",
    "    transcript = openai.Audio.transcribe(\"whisper-1\", input_audio_file, response_format=\"text\")\n",
    "    return transcript"
   ]
  },
  {
   "cell_type": "markdown",
   "id": "e7646580",
   "metadata": {},
   "source": [
    "Method to convert text to speech using pyttsx3 library"
   ]
  },
  {
   "cell_type": "code",
   "execution_count": 39,
   "id": "a33e1299",
   "metadata": {},
   "outputs": [],
   "source": [
    "def text_to_speech(input_text, output_audio_file):\n",
    "    engine = pyttsx3.init()\n",
    "    engine.say(input_text)\n",
    "    engine.runAndWait()\n",
    "    engine.save_to_file(input_text, output_audio_file)"
   ]
  },
  {
   "cell_type": "markdown",
   "id": "8f86df46",
   "metadata": {},
   "source": [
    "5 samples questions to ask to GPT"
   ]
  },
  {
   "cell_type": "code",
   "execution_count": 40,
   "id": "e4b5a5c2",
   "metadata": {},
   "outputs": [],
   "source": [
    "questions = [\"Hello! How are you?\", \"Who will win the Cricket World Cup 2023?\", \"Define Time Dilation?\", \"Describe String Theory?\", \"What is Escape Velocity?\"]"
   ]
  },
  {
   "cell_type": "code",
   "execution_count": 41,
   "id": "1090f8a4",
   "metadata": {},
   "outputs": [],
   "source": [
    "question_audio_files = []"
   ]
  },
  {
   "cell_type": "code",
   "execution_count": 42,
   "id": "e22a3187",
   "metadata": {},
   "outputs": [],
   "source": [
    "answers = []"
   ]
  },
  {
   "cell_type": "markdown",
   "id": "c9e8484e",
   "metadata": {},
   "source": [
    "Creating question audio files from questions"
   ]
  },
  {
   "cell_type": "code",
   "execution_count": 43,
   "id": "e37e5105",
   "metadata": {},
   "outputs": [],
   "source": [
    "for i in range(len(questions)):\n",
    "    question_audio_file = \"question\" + str(i+1) + \".mp3\"\n",
    "    question_audio_files.append(question_audio_file)\n",
    "    text_to_speech(questions[i], question_audio_file)"
   ]
  },
  {
   "cell_type": "code",
   "execution_count": 44,
   "id": "a738912d",
   "metadata": {},
   "outputs": [],
   "source": [
    "def question_answer(question):\n",
    "    #openai.api_key = \"\"\n",
    "\n",
    "    messages=[{\"role\": \"user\", \"content\": question}]\n",
    "\n",
    "    answer = openai.ChatCompletion.create(\n",
    "      model=\"gpt-4\",\n",
    "      messages=messages,\n",
    "      temperature=0.5,\n",
    "      max_tokens=100,\n",
    "      top_p=1.0,\n",
    "      frequency_penalty=0.0,\n",
    "      presence_penalty=0.0\n",
    "    )\n",
    "\n",
    "    return answer['choices'][0]['message']['content']"
   ]
  },
  {
   "cell_type": "markdown",
   "id": "fc7cdac1",
   "metadata": {},
   "source": [
    "Getting answers and storing them"
   ]
  },
  {
   "cell_type": "code",
   "execution_count": 45,
   "id": "9c8f7123",
   "metadata": {},
   "outputs": [
    {
     "name": "stdout",
     "output_type": "stream",
     "text": [
      "As an artificial intelligence, I don't have feelings, but I'm here and ready to assist you. How can I help you today?\n",
      "As an AI, I don't predict future events. We will have to wait and see who wins the Cricket World Cup 2023.\n",
      "Time dilation is a concept in physics that refers to the difference in elapsed time as measured by two observers due to a relative velocity between them or to a difference in gravitational potential between their locations. It is a key aspect of Einstein's theory of relativity, where the time experienced by an object moving at high speeds or in a strong gravitational field will appear to pass more slowly compared to an object at rest or in a weaker gravitational field.\n",
      "String theory is a theoretical framework in which the point-like particles of particle physics are replaced by one-dimensional objects called strings. These strings can vibrate at different frequencies, and the frequency of vibration is perceived as the particle's mass, charge, and other properties. \n",
      "\n",
      "String theory is a candidate for a unified theory of quantum gravity, which attempts to reconcile the theories of general relativity (which describes gravity and large-scale phenomena) and quantum mechanics (which describes the behavior of particles at the smallest scales).\n",
      "\n",
      "\n",
      "Escape velocity is the minimum speed needed for an object to escape from the gravitational influence of a massive body, without any further propulsion. It depends on the mass and radius of the body. For instance, the escape velocity for Earth is about 11.2 kilometers per second, while for the Moon it is about 2.4 kilometers per second.\n"
     ]
    }
   ],
   "source": [
    "for i in range(len(question_audio_files)):\n",
    "    answer = question_answer(speech_to_text(question_audio_files[i]))\n",
    "    print(answer)\n",
    "    answers.append(answer)\n",
    "    answer_audio_file = \"answer\" + str(i+1) + \".mp3\"\n",
    "    text_to_speech(answer, answer_audio_file)"
   ]
  },
  {
   "cell_type": "markdown",
   "id": "ec2cad53",
   "metadata": {},
   "source": [
    "Printing questions and answers"
   ]
  },
  {
   "cell_type": "code",
   "execution_count": 47,
   "id": "17522445",
   "metadata": {},
   "outputs": [
    {
     "name": "stdout",
     "output_type": "stream",
     "text": [
      "======================\n",
      "Question 1 is: Hello! How are you?\n",
      "Answer 1 is: As an artificial intelligence, I don't have feelings, but I'm here and ready to assist you. How can I help you today?\n",
      "======================\n",
      "Question 2 is: Who will win the Cricket World Cup 2023?\n",
      "Answer 2 is: As an AI, I don't predict future events. We will have to wait and see who wins the Cricket World Cup 2023.\n",
      "======================\n",
      "Question 3 is: Define Time Dilation?\n",
      "Answer 3 is: Time dilation is a concept in physics that refers to the difference in elapsed time as measured by two observers due to a relative velocity between them or to a difference in gravitational potential between their locations. It is a key aspect of Einstein's theory of relativity, where the time experienced by an object moving at high speeds or in a strong gravitational field will appear to pass more slowly compared to an object at rest or in a weaker gravitational field.\n",
      "======================\n",
      "Question 4 is: Describe String Theory?\n",
      "Answer 4 is: String theory is a theoretical framework in which the point-like particles of particle physics are replaced by one-dimensional objects called strings. These strings can vibrate at different frequencies, and the frequency of vibration is perceived as the particle's mass, charge, and other properties. \n",
      "\n",
      "String theory is a candidate for a unified theory of quantum gravity, which attempts to reconcile the theories of general relativity (which describes gravity and large-scale phenomena) and quantum mechanics (which describes the behavior of particles at the smallest scales).\n",
      "\n",
      "\n",
      "======================\n",
      "Question 5 is: What is Escape Velocity?\n",
      "Answer 5 is: Escape velocity is the minimum speed needed for an object to escape from the gravitational influence of a massive body, without any further propulsion. It depends on the mass and radius of the body. For instance, the escape velocity for Earth is about 11.2 kilometers per second, while for the Moon it is about 2.4 kilometers per second.\n"
     ]
    }
   ],
   "source": [
    "for i in range(5):\n",
    "    print(\"======================\")\n",
    "    print(\"Question\", i+1, \"is:\", questions[i])\n",
    "    print(\"Answer\", i+1, \"is:\", answers[i])"
   ]
  }
 ],
 "metadata": {
  "kernelspec": {
   "display_name": "Python 3 (ipykernel)",
   "language": "python",
   "name": "python3"
  },
  "language_info": {
   "codemirror_mode": {
    "name": "ipython",
    "version": 3
   },
   "file_extension": ".py",
   "mimetype": "text/x-python",
   "name": "python",
   "nbconvert_exporter": "python",
   "pygments_lexer": "ipython3",
   "version": "3.11.4"
  }
 },
 "nbformat": 4,
 "nbformat_minor": 5
}
